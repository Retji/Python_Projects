{
 "cells": [
  {
   "cell_type": "code",
   "execution_count": 1,
   "id": "20ed3df5-3270-48d9-9fdd-440a7fcd179d",
   "metadata": {},
   "outputs": [],
   "source": [
    "#Assignment Operator\n",
    "x=1\n",
    "x+=1 #x=x+1\n",
    "#list are mutable objects"
   ]
  },
  {
   "cell_type": "code",
   "execution_count": 2,
   "id": "424eb854-4afe-4f39-a4c3-f0a0849d92c9",
   "metadata": {},
   "outputs": [
    {
     "data": {
      "text/plain": [
       "2"
      ]
     },
     "execution_count": 2,
     "metadata": {},
     "output_type": "execute_result"
    }
   ],
   "source": [
    "x"
   ]
  },
  {
   "cell_type": "markdown",
   "id": "f5c8a270-ad7c-46a4-9fbc-d99459d8dd07",
   "metadata": {},
   "source": [
    "List is a of ordered items"
   ]
  },
  {
   "cell_type": "code",
   "execution_count": 4,
   "id": "98e4aff7-9ca6-4b07-a5e8-626c4e323f96",
   "metadata": {},
   "outputs": [],
   "source": [
    "job_skills =[\"python\",\"sql\",\"excel\"]"
   ]
  },
  {
   "cell_type": "code",
   "execution_count": 5,
   "id": "5b47102d-d0f5-4e79-bae3-5b13dca40544",
   "metadata": {},
   "outputs": [],
   "source": [
    "job_skills.remove(\"python\")"
   ]
  },
  {
   "cell_type": "code",
   "execution_count": 6,
   "id": "4e726b80-8470-465d-8c92-223a9ae12847",
   "metadata": {},
   "outputs": [
    {
     "name": "stdout",
     "output_type": "stream",
     "text": [
      "['sql', 'excel']\n"
     ]
    }
   ],
   "source": [
    "print(job_skills)"
   ]
  },
  {
   "cell_type": "code",
   "execution_count": 8,
   "id": "547cb1d0-adcd-4f1b-a04c-4bfce47a26f0",
   "metadata": {},
   "outputs": [],
   "source": [
    "job_skills.insert(2,\"Tableau\")"
   ]
  },
  {
   "cell_type": "code",
   "execution_count": 2,
   "id": "9af744fd-4da6-4a2f-ac3a-aa9971a3127b",
   "metadata": {},
   "outputs": [
    {
     "name": "stdout",
     "output_type": "stream",
     "text": [
      "python\n",
      "chash\n",
      "php\n"
     ]
    }
   ],
   "source": [
    "skills=['python','chash','php']\n",
    "for i in skills:\n",
    "    print (i)"
   ]
  },
  {
   "cell_type": "markdown",
   "id": "0b301b54-49e1-4ea4-9466-72a90cd80e09",
   "metadata": {},
   "source": [
    "Loop:"
   ]
  },
  {
   "cell_type": "code",
   "execution_count": 20,
   "id": "3b242124-1bee-42cc-ac42-9a477875776f",
   "metadata": {},
   "outputs": [
    {
     "name": "stdout",
     "output_type": "stream",
     "text": [
      "{'Data Analyst': 15, 'Software Engineer': 14, 'Project Manager': 12, 'Civil Engineer': 1, 'Marketing Specialist': 17, 'Graphic Designer': 15, 'Cybersecurity Analyst': 8, 'Mechanical Engineer': 19, 'Business Consultant': 17, 'Human Resources Manager': 16, 'Financial Analyst': 11, 'Electrical Engineer': 12, 'UX/UI Designer': 17, 'DevOps Engineer': 3, 'Cloud Architect': 10, 'AI Researcher': 18, 'Biomedical Engineer': 9, 'SEO Specialist': 2, 'Sales Manager': 8, 'Network Administrator': 19, 'Technical Writer': 19, 'Product Manager': 11, 'Legal Consultant': 20, 'Economist': 8, 'Operations Manager': 5}\n"
     ]
    }
   ],
   "source": [
    "import random\n",
    "\n",
    "years_experience = {\n",
    "    \"Data Analyst\": random.randint(1, 20),\n",
    "    \"Software Engineer\": random.randint(1, 20),\n",
    "    \"Project Manager\": random.randint(1, 20),\n",
    "    \"Civil Engineer\": random.randint(1, 20),\n",
    "    \"Marketing Specialist\": random.randint(1, 20),\n",
    "    \"Graphic Designer\": random.randint(1, 20),\n",
    "    \"Cybersecurity Analyst\": random.randint(1, 20),\n",
    "    \"Mechanical Engineer\": random.randint(1, 20),\n",
    "    \"Business Consultant\": random.randint(1, 20),\n",
    "    \"Human Resources Manager\": random.randint(1, 20),\n",
    "    \"Financial Analyst\": random.randint(1, 20),\n",
    "    \"Electrical Engineer\": random.randint(1, 20),\n",
    "    \"UX/UI Designer\": random.randint(1, 20),\n",
    "    \"DevOps Engineer\": random.randint(1, 20),\n",
    "    \"Cloud Architect\": random.randint(1, 20),\n",
    "    \"AI Researcher\": random.randint(1, 20),\n",
    "    \"Biomedical Engineer\": random.randint(1, 20),\n",
    "    \"SEO Specialist\": random.randint(1, 20),\n",
    "    \"Sales Manager\": random.randint(1, 20),\n",
    "    \"Network Administrator\": random.randint(1, 20),\n",
    "    \"Technical Writer\": random.randint(1, 20),\n",
    "    \"Product Manager\": random.randint(1, 20),\n",
    "    \"Legal Consultant\": random.randint(1, 20),\n",
    "    \"Economist\": random.randint(1, 20),\n",
    "    \"Operations Manager\": random.randint(1, 20)\n",
    "}\n",
    "\n",
    "print(years_experience)"
   ]
  },
  {
   "cell_type": "code",
   "execution_count": 21,
   "id": "5544bc5c-79e4-4fe4-8851-7fda7385adb2",
   "metadata": {},
   "outputs": [
    {
     "name": "stdout",
     "output_type": "stream",
     "text": [
      "Data Analyst 15\n",
      "Software Engineer 14\n",
      "Project Manager 12\n",
      "Marketing Specialist 17\n",
      "Graphic Designer 15\n",
      "Cybersecurity Analyst 8\n",
      "Mechanical Engineer 19\n",
      "Business Consultant 17\n",
      "Human Resources Manager 16\n",
      "Financial Analyst 11\n",
      "Electrical Engineer 12\n",
      "UX/UI Designer 17\n",
      "Cloud Architect 10\n",
      "AI Researcher 18\n",
      "Biomedical Engineer 9\n",
      "Sales Manager 8\n",
      "Network Administrator 19\n",
      "Technical Writer 19\n",
      "Product Manager 11\n",
      "Legal Consultant 20\n",
      "Economist 8\n"
     ]
    }
   ],
   "source": [
    "for role,years in years_experience.items():\n",
    "    if years>5:\n",
    "        print(role,years)"
   ]
  },
  {
   "cell_type": "markdown",
   "id": "1326c46e-2880-467d-903e-8a852abb25be",
   "metadata": {},
   "source": [
    "### While loop:"
   ]
  },
  {
   "cell_type": "code",
   "execution_count": null,
   "id": "9fe2b35c-4ffc-4a19-8f12-298711656af4",
   "metadata": {},
   "outputs": [],
   "source": []
  },
  {
   "cell_type": "markdown",
   "id": "95ca84a3-b0a7-43e4-abf2-9c2a14eb07ea",
   "metadata": {},
   "source": [
    "### List comprehension\n"
   ]
  },
  {
   "cell_type": "code",
   "execution_count": 36,
   "id": "de6e37b4-f770-452c-8660-ad881b4af1dc",
   "metadata": {},
   "outputs": [
    {
     "data": {
      "text/plain": [
       "[0.0,\n",
       " 1.0,\n",
       " 2.0,\n",
       " 3.0,\n",
       " 4.0,\n",
       " 5.0,\n",
       " 6.0,\n",
       " 7.0,\n",
       " 8.0,\n",
       " 9.0,\n",
       " 10.0,\n",
       " 11.0,\n",
       " 12.0,\n",
       " 13.0,\n",
       " 14.0,\n",
       " 15.0,\n",
       " 16.0,\n",
       " 17.0,\n",
       " 18.0,\n",
       " 19.0]"
      ]
     },
     "execution_count": 36,
     "metadata": {},
     "output_type": "execute_result"
    }
   ],
   "source": [
    "numbers= [float(x) for x in range(20)]\n",
    "numbers"
   ]
  },
  {
   "cell_type": "code",
   "execution_count": 1,
   "id": "3d7bce49-03c0-4023-ab74-e4a9a08570bb",
   "metadata": {},
   "outputs": [],
   "source": [
    "from datetime import datetime"
   ]
  },
  {
   "cell_type": "code",
   "execution_count": 2,
   "id": "f0b8e086-f09d-4c19-8887-37ba3346ce87",
   "metadata": {},
   "outputs": [
    {
     "data": {
      "text/plain": [
       "datetime.datetime(2025, 4, 1, 12, 24, 23, 391287)"
      ]
     },
     "execution_count": 2,
     "metadata": {},
     "output_type": "execute_result"
    }
   ],
   "source": [
    "datetime.now()"
   ]
  },
  {
   "cell_type": "code",
   "execution_count": 4,
   "id": "2fc8357a-35cb-44de-83bd-951df3be887e",
   "metadata": {},
   "outputs": [],
   "source": [
    "job_roles = [\n",
    "    {'role': 'Data Analyst', 'skills': ['Python', 'SQL', 'Excel']},\n",
    "    {'role': 'Data Scientist', 'skills': ['Python', 'R', 'Machine Learning', 'Deep Learning']},\n",
    "    {'role': 'Machine Learning Engineer', 'skills': ['Python', 'TensorFlow', 'PyTorch', 'Scikit-Learn']},\n",
    "    {'role': 'Data Engineer', 'skills': ['Python', 'Apache Spark', 'Hadoop', 'SQL']},\n",
    "    {'role': 'Business Intelligence Analyst', 'skills': ['Python', 'SQL', 'Tableau', 'Power BI', 'Excel']},\n",
    "    {'role': 'Quantitative Analyst', 'skills': ['R', 'Python', 'MATLAB', 'Statistics']},\n",
    "    {'role': 'Operations Analyst', 'skills': ['Python', 'SQL', 'Data Visualization', 'Process Improvement']},\n",
    "    {'role': 'Database Administrator', 'skills': ['SQL', 'Oracle', 'MySQL', 'Database Management']},\n",
    "    {'role': 'AI Engineer', 'skills': ['Python', 'TensorFlow', 'PyTorch', 'Computer Vision']},\n",
    "    {'role': 'Statistician', 'skills': ['R', 'SAS', 'Python', 'Statistical Modeling']},\n",
    "    {'role': 'DevOps Engineer', 'skills': ['Python', 'Docker', 'Kubernetes', 'AWS', 'CI/CD']},\n",
    "    {'role': 'Research Scientist', 'skills': ['Python', 'R', 'Statistics', 'Experimental Design']},\n",
    "    {'role': 'Big Data Architect', 'skills': ['Hadoop', 'Spark', 'NoSQL', 'Data Warehousing']},\n",
    "    {'role': 'Financial Analyst', 'skills': ['Excel', 'Python', 'Financial Modeling', 'SQL']},\n",
    "    {'role': 'Data Visualization Specialist', 'skills': ['Tableau', 'Power BI', 'D3.js', 'Python']},\n",
    "    {'role': 'ETL Developer', 'skills': ['SQL', 'Python', 'Data Pipelines', 'Apache Airflow']},\n",
    "    {'role': 'Computer Vision Engineer', 'skills': ['Python', 'OpenCV', 'TensorFlow', 'Image Processing']},\n",
    "    {'role': 'NLP Engineer', 'skills': ['Python', 'NLTK', 'spaCy', 'Transformer Models']},\n",
    "    {'role': 'Cloud Data Engineer', 'skills': ['AWS', 'Python', 'Spark', 'Data Lakes']},\n",
    "    {'role': 'Business Analyst', 'skills': ['SQL', 'Excel', 'PowerPoint', 'Requirements Gathering']}\n",
    "]"
   ]
  },
  {
   "cell_type": "code",
   "execution_count": 11,
   "id": "8285b492-15be-4f59-b8df-0a6634c6b7fc",
   "metadata": {},
   "outputs": [],
   "source": [
    "data_science_roles = [\n",
    "    {'role': 'Data Analyst', 'skills': ['Python', 'SQL', 'Excel', 'Tableau'], 'start_date': '2022-03-15'},\n",
    "    {'role': 'Machine Learning Engineer', 'skills': ['Python', 'TensorFlow', 'PyTorch', 'Scikit-Learn'], 'start_date': '2021-08-10'},\n",
    "    {'role': 'Data Scientist', 'skills': ['Python', 'R', 'Machine Learning', 'Statistics'], 'start_date': '2020-11-22'},\n",
    "    {'role': 'Data Engineer', 'skills': ['Python', 'SQL', 'Apache Spark', 'ETL'], 'start_date': '2023-01-05'},\n",
    "    {'role': 'Business Intelligence Analyst', 'skills': ['SQL', 'Power BI', 'Excel', 'Data Visualization'], 'start_date': '2022-06-18'},\n",
    "    {'role': 'Database Administrator', 'skills': ['SQL', 'Database Management', 'Backup/Recovery'], 'start_date': '2019-09-30'},\n",
    "    {'role': 'AI Research Engineer', 'skills': ['Python', 'TensorFlow', 'Research Papers', 'NLP'], 'start_date': '2021-04-12'},\n",
    "    {'role': 'Data Visualization Specialist', 'skills': ['Tableau', 'Power BI', 'D3.js', 'Design Principles'], 'start_date': '2023-02-28'},\n",
    "    {'role': 'Cloud Data Architect', 'skills': ['AWS', 'Azure', 'Data Pipelines', 'Data Warehousing'], 'start_date': '2020-07-15'},\n",
    "    {'role': 'Quantitative Analyst', 'skills': ['Python', 'R', 'Financial Modeling', 'Statistics'], 'start_date': '2022-09-01'}\n",
    "]"
   ]
  },
  {
   "cell_type": "code",
   "execution_count": 22,
   "id": "896161a3-578b-455e-9733-33f82b4f8c39",
   "metadata": {},
   "outputs": [
    {
     "name": "stdout",
     "output_type": "stream",
     "text": [
      "2022-03-15\n"
     ]
    }
   ],
   "source": [
    "test_date=data_science_roles[0]['start_date']\n",
    "print(test_date)"
   ]
  },
  {
   "cell_type": "code",
   "execution_count": 15,
   "id": "d9bc79d1-baf8-4183-817e-61db070a9623",
   "metadata": {},
   "outputs": [],
   "source": [
    "# the datetime.strptime (date_string,format) is used to convert str to date format using the given arguments"
   ]
  },
  {
   "cell_type": "code",
   "execution_count": 24,
   "id": "f1aa27a1-5cdd-499e-984b-c569601f54a9",
   "metadata": {},
   "outputs": [
    {
     "data": {
      "text/plain": [
       "datetime.datetime(2022, 3, 15, 0, 0)"
      ]
     },
     "execution_count": 24,
     "metadata": {},
     "output_type": "execute_result"
    }
   ],
   "source": [
    "datetime.strptime(test_date, \"%Y-%m-%d\")  # Single % signs"
   ]
  },
  {
   "cell_type": "code",
   "execution_count": 35,
   "id": "55ffc57f-b018-47ea-ab40-c3d79e4bd705",
   "metadata": {},
   "outputs": [
    {
     "ename": "TypeError",
     "evalue": "strptime() argument 1 must be str, not datetime.datetime",
     "output_type": "error",
     "traceback": [
      "\u001b[1;31m---------------------------------------------------------------------------\u001b[0m",
      "\u001b[1;31mTypeError\u001b[0m                                 Traceback (most recent call last)",
      "Cell \u001b[1;32mIn[35], line 2\u001b[0m\n\u001b[0;32m      1\u001b[0m \u001b[38;5;28;01mfor\u001b[39;00m job \u001b[38;5;129;01min\u001b[39;00m data_science_roles:\n\u001b[1;32m----> 2\u001b[0m     job[\u001b[38;5;124m'\u001b[39m\u001b[38;5;124mstart_date\u001b[39m\u001b[38;5;124m'\u001b[39m]\u001b[38;5;241m=\u001b[39mdatetime\u001b[38;5;241m.\u001b[39mstrptime(job[\u001b[38;5;124m'\u001b[39m\u001b[38;5;124mstart_date\u001b[39m\u001b[38;5;124m'\u001b[39m],\u001b[38;5;124m\"\u001b[39m\u001b[38;5;124m%\u001b[39m\u001b[38;5;124mY-\u001b[39m\u001b[38;5;124m%\u001b[39m\u001b[38;5;124mm-\u001b[39m\u001b[38;5;132;01m%d\u001b[39;00m\u001b[38;5;124m\"\u001b[39m)\n",
      "\u001b[1;31mTypeError\u001b[0m: strptime() argument 1 must be str, not datetime.datetime"
     ]
    }
   ],
   "source": [
    "for job in data_science_roles:\n",
    "    job['start_date']=datetime.strptime(job['start_date'],\"%Y-%m-%d\")"
   ]
  },
  {
   "cell_type": "code",
   "execution_count": 36,
   "id": "7672a312-fb91-48c4-9009-efbb04a4897c",
   "metadata": {},
   "outputs": [
    {
     "data": {
      "text/plain": [
       "[{'role': 'Data Analyst',\n",
       "  'skills': ['Python', 'SQL', 'Excel', 'Tableau'],\n",
       "  'start_date': datetime.datetime(2022, 3, 15, 0, 0)},\n",
       " {'role': 'Machine Learning Engineer',\n",
       "  'skills': ['Python', 'TensorFlow', 'PyTorch', 'Scikit-Learn'],\n",
       "  'start_date': datetime.datetime(2021, 8, 10, 0, 0)},\n",
       " {'role': 'Data Scientist',\n",
       "  'skills': ['Python', 'R', 'Machine Learning', 'Statistics'],\n",
       "  'start_date': datetime.datetime(2020, 11, 22, 0, 0)},\n",
       " {'role': 'Data Engineer',\n",
       "  'skills': ['Python', 'SQL', 'Apache Spark', 'ETL'],\n",
       "  'start_date': datetime.datetime(2023, 1, 5, 0, 0)},\n",
       " {'role': 'Business Intelligence Analyst',\n",
       "  'skills': ['SQL', 'Power BI', 'Excel', 'Data Visualization'],\n",
       "  'start_date': datetime.datetime(2022, 6, 18, 0, 0)},\n",
       " {'role': 'Database Administrator',\n",
       "  'skills': ['SQL', 'Database Management', 'Backup/Recovery'],\n",
       "  'start_date': datetime.datetime(2019, 9, 30, 0, 0)},\n",
       " {'role': 'AI Research Engineer',\n",
       "  'skills': ['Python', 'TensorFlow', 'Research Papers', 'NLP'],\n",
       "  'start_date': datetime.datetime(2021, 4, 12, 0, 0)},\n",
       " {'role': 'Data Visualization Specialist',\n",
       "  'skills': ['Tableau', 'Power BI', 'D3.js', 'Design Principles'],\n",
       "  'start_date': datetime.datetime(2023, 2, 28, 0, 0)},\n",
       " {'role': 'Cloud Data Architect',\n",
       "  'skills': ['AWS', 'Azure', 'Data Pipelines', 'Data Warehousing'],\n",
       "  'start_date': datetime.datetime(2020, 7, 15, 0, 0)},\n",
       " {'role': 'Quantitative Analyst',\n",
       "  'skills': ['Python', 'R', 'Financial Modeling', 'Statistics'],\n",
       "  'start_date': datetime.datetime(2022, 9, 1, 0, 0)}]"
      ]
     },
     "execution_count": 36,
     "metadata": {},
     "output_type": "execute_result"
    }
   ],
   "source": [
    "data_science_roles"
   ]
  },
  {
   "cell_type": "markdown",
   "id": "dc313f79-84fc-4e2d-8cf5-9ef0fe7d806c",
   "metadata": {},
   "source": [
    "Classes"
   ]
  },
  {
   "cell_type": "code",
   "execution_count": 87,
   "id": "83ce30b6-c03c-4990-bd61-613d71539415",
   "metadata": {},
   "outputs": [],
   "source": [
    "class BaseSalary:\n",
    "    def __init__(self,base_salary,bonus_rate=0.2,symbol=\"$\"):\n",
    "        self.base_salary=base_salary\n",
    "        self.bonus=bonus_rate\n",
    "        self.symbol=symbol\n",
    "        self.total_salary=base_salary*(1+bonus_rate)\n",
    "        self.bonus=(self.total_salary-self.base_salary)\n",
    "\n",
    "    def __repr__(self):\n",
    "        return f'{self.symbol}{self.base_salary:,.1f}'\n",
    "    def calcualate_salary(self):\n",
    "        return f'{self.symbol}{self.total_salary:,.1f}'\n",
    "    def calculate_bonus(self):\n",
    "        return f'{self.symbol}{self.bonus:,.1f}'\n",
    "       "
   ]
  },
  {
   "cell_type": "code",
   "execution_count": 88,
   "id": "635d8793-153e-45f8-9752-828e0318a3c8",
   "metadata": {},
   "outputs": [],
   "source": [
    "salary=BaseSalary(1000)"
   ]
  },
  {
   "cell_type": "code",
   "execution_count": 89,
   "id": "b643c83f-e123-4b2f-934c-d83cf6d025a0",
   "metadata": {},
   "outputs": [
    {
     "data": {
      "text/plain": [
       "$1,000.0"
      ]
     },
     "execution_count": 89,
     "metadata": {},
     "output_type": "execute_result"
    }
   ],
   "source": [
    "salary"
   ]
  },
  {
   "cell_type": "code",
   "execution_count": 90,
   "id": "59bd5b37-ceb8-4226-ac96-48d025bda6e9",
   "metadata": {},
   "outputs": [
    {
     "data": {
      "text/plain": [
       "'1,000,000.00'"
      ]
     },
     "execution_count": 90,
     "metadata": {},
     "output_type": "execute_result"
    }
   ],
   "source": [
    "value=1000000\n",
    "f'{value:,.2f}'"
   ]
  },
  {
   "cell_type": "code",
   "execution_count": 91,
   "id": "04bbc6f1-e092-466d-938e-4c735627400d",
   "metadata": {},
   "outputs": [
    {
     "data": {
      "text/plain": [
       "200.0"
      ]
     },
     "execution_count": 91,
     "metadata": {},
     "output_type": "execute_result"
    }
   ],
   "source": [
    "salary.bonus"
   ]
  },
  {
   "cell_type": "code",
   "execution_count": null,
   "id": "184de8be-d941-4fda-9061-49a5b7ecb975",
   "metadata": {},
   "outputs": [],
   "source": []
  }
 ],
 "metadata": {
  "kernelspec": {
   "display_name": "Python [conda env:base] *",
   "language": "python",
   "name": "conda-base-py"
  },
  "language_info": {
   "codemirror_mode": {
    "name": "ipython",
    "version": 3
   },
   "file_extension": ".py",
   "mimetype": "text/x-python",
   "name": "python",
   "nbconvert_exporter": "python",
   "pygments_lexer": "ipython3",
   "version": "3.12.7"
  }
 },
 "nbformat": 4,
 "nbformat_minor": 5
}
